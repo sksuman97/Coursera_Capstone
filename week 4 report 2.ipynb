{
    "cells": [
        {
            "cell_type": "markdown",
            "metadata": {
                "collapsed": true
            },
            "source": "# Data:\n"
        },
        {
            "cell_type": "markdown",
            "metadata": {},
            "source": "## To solve the problem,we need the foolowing data-"
        },
        {
            "cell_type": "markdown",
            "metadata": {},
            "source": "### 1.list of the neighbourhoods in Mumbai city.\n### 2.latitude and longitude coordinates of those neighbourhoods.This is required in order to plot the map and also to get the venue data.\n### 3.venue data,particularly data related to restaurants.we will use this data to perform clustering on neighbourhoods."
        },
        {
            "cell_type": "markdown",
            "metadata": {},
            "source": "## Sources of data and methods to extract them:\n\n\n### This wikipedia page('https://en.wikipedia.org/wiki/List_of_neighbourhoods_in_Mumbai') contains a list of neighbourhoods of Mumbai,India. We will use web scrapping techniques to extract the data from wikipedia website.As in that page all the neighbourhoods with their coordinates exists in tabular form ,we could directly extract these with pandas library.\n\n\n### After that we will use foursquare API to get the venue data of those neighbourhood .Foursquare API will provide many categories of venue data,We particularly interested in restasurants data category in order to help us in solving the business problem.\n\n\n### This is a project that will make use of various data science skills from web scrapping ,data cleaning,working with Foursquare API,data wrangling,data visualization(folium) to machine learning skills "
        },
        {
            "cell_type": "code",
            "execution_count": null,
            "metadata": {},
            "outputs": [],
            "source": ""
        }
    ],
    "metadata": {
        "kernelspec": {
            "display_name": "Python 3.6",
            "language": "python",
            "name": "python3"
        },
        "language_info": {
            "codemirror_mode": {
                "name": "ipython",
                "version": 3
            },
            "file_extension": ".py",
            "mimetype": "text/x-python",
            "name": "python",
            "nbconvert_exporter": "python",
            "pygments_lexer": "ipython3",
            "version": "3.6.9"
        }
    },
    "nbformat": 4,
    "nbformat_minor": 1
}