{
    "cells": [
        {
            "metadata": {
                "collapsed": true
            },
            "cell_type": "markdown",
            "source": "<h1 align=center><font size=8>Coursera Capstone</font></h1>"
        },
        {
            "metadata": {},
            "cell_type": "markdown",
            "source": "<h1 align=center><font size=5>IBM Applied Data Science</font></h1>"
        },
        {
            "metadata": {},
            "cell_type": "markdown",
            "source": "<h1 align=center><font size=6>Opening A New Chineese Restaurant in Mumbai,India</font></h1>"
        },
        {
            "metadata": {},
            "cell_type": "markdown",
            "source": "<h1 align=center><font size=5>By Sumanta Kumar Muduli</font></h1>"
        },
        {
            "metadata": {},
            "cell_type": "markdown",
            "source": "<h1 align=center><font size=5>28th June 2020</font></h1>"
        },
        {
            "metadata": {},
            "cell_type": "markdown",
            "source": "<img src='https://upload.wikimedia.org/wikipedia/commons/thumb/b/bc/Mumbai_skyline_BWSL.jpg/280px-Mumbai_skyline_BWSL.jpg' width=1000>"
        },
        {
            "metadata": {},
            "cell_type": "markdown",
            "source": "# Introduction:"
        },
        {
            "metadata": {},
            "cell_type": "markdown",
            "source": "## Mumbai is the financial capital of India.It has highest hotel and restaurant industry in the country due to presence of measure financial activities in the city like different production industry,Bollywood industry,Educational institutions,Bank industry.This industry is also expanding at a very fast rate due to the high profit involvment and increasing demand.Property developers are also taking advantage of this increasing demand trend to build more restaurants to cater the demand of investors.As a result of which there are many restaurants in the city and many more are being built.Of course like many businesses, opening a new restaurant requires serious considerations.This is a very complicated problem than it seems.Particularly the selection of location is one one of the most important decision which will decide whether the restaurant is a success or a failure. "
        },
        {
            "metadata": {},
            "cell_type": "markdown",
            "source": "# Business Problem:"
        },
        {
            "metadata": {},
            "cell_type": "markdown",
            "source": "## The objective of this capstone project is to analyse and select the best location to open a restaurant in Mumbai city,india.Using machine learning techniques like clustering this project aims to provide the  solution to business question :In the city of Mumbai ,India some one is looking to open a new restaurant, where would you recommend him to open it?"
        },
        {
            "metadata": {},
            "cell_type": "markdown",
            "source": "\n# Target audiance of this project:"
        },
        {
            "metadata": {},
            "cell_type": "markdown",
            "source": "## This project is basically usefull for the investors who are looking to set a new restaurant in Mumbai city.\n<img src='https://media.aaronallen.com/dfR7U5E-T_0Q17iI/w:768/h:516/q:75/https://aaronallen.com/wp-content/uploads/2017/02/1487712408.png' width=600>"
        },
        {
            "metadata": {},
            "cell_type": "markdown",
            "source": "## As per the trend shown in above figure published by  AARONALLEN and ASSOCIATES  a global restaurant consultancy company , india's consumer food service is growing steadily."
        }
    ],
    "metadata": {
        "kernelspec": {
            "name": "python3",
            "display_name": "Python 3.6",
            "language": "python"
        },
        "language_info": {
            "name": "python",
            "version": "3.6.9",
            "mimetype": "text/x-python",
            "codemirror_mode": {
                "name": "ipython",
                "version": 3
            },
            "pygments_lexer": "ipython3",
            "nbconvert_exporter": "python",
            "file_extension": ".py"
        }
    },
    "nbformat": 4,
    "nbformat_minor": 1
}